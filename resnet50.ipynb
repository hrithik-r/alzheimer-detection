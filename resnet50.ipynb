{
 "cells": [
  {
   "cell_type": "code",
   "execution_count": 1,
   "metadata": {
    "_cell_guid": "79c7e3d0-c299-4dcb-8224-4455121ee9b0",
    "_uuid": "d629ff2d2480ee46fbb7e2d37f6b5fab8052498a"
   },
   "outputs": [],
   "source": [
    "import numpy as np\n",
    "import pandas as pd\n",
    "import matplotlib.pyplot as plt\n",
    "import seaborn as sn\n",
    "import skimage.io\n",
    "import os \n",
    "import tqdm\n",
    "import glob\n",
    "import tensorflow \n",
    "from tqdm import tqdm\n",
    "from sklearn.utils import shuffle\n",
    "from sklearn import metrics\n",
    "from sklearn.metrics import confusion_matrix, classification_report\n",
    "from sklearn.model_selection import train_test_split\n",
    "from skimage.io import imread, imshow\n",
    "from skimage.transform import resize\n",
    "from skimage.color import grey2rgb\n",
    "import tensorflow as tf\n",
    "from tensorflow.keras.preprocessing.image import ImageDataGenerator\n",
    "from tensorflow.keras.preprocessing import image_dataset_from_directory\n",
    "from tensorflow.keras.models import Sequential\n",
    "from tensorflow.keras.layers import InputLayer, BatchNormalization, Dropout, Flatten, Dense, Activation, MaxPool2D, Conv2D\n",
    "from tensorflow.keras.callbacks import EarlyStopping, ModelCheckpoint\n",
    "from tensorflow.keras.applications.resnet50 import ResNet50\n",
    "from tensorflow.keras.utils import to_categorical\n",
    "from keras import optimizers\n",
    "from keras.callbacks import Callback,ModelCheckpoint\n",
    "from keras.models import Sequential,load_model\n",
    "from keras.layers import Dense, Dropout\n",
    "from keras.wrappers.scikit_learn import KerasClassifier\n",
    "import keras.backend as K\n",
    "from typeguard import typechecked\n",
    "from typing import Optional"
   ]
  },
  {
   "cell_type": "code",
   "execution_count": 3,
   "metadata": {},
   "outputs": [],
   "source": [
    "AUTOTUNE = tf.data.experimental.AUTOTUNE"
   ]
  },
  {
   "cell_type": "code",
   "execution_count": 4,
   "metadata": {},
   "outputs": [],
   "source": [
    "train_datagen = ImageDataGenerator(rescale = 1./255,\n",
    "                                   validation_split = 0.2,\n",
    "                                  \n",
    "        rotation_range=5,\n",
    "        width_shift_range=0.2,\n",
    "        height_shift_range=0.2,\n",
    "        shear_range=0.2,\n",
    "        horizontal_flip=True,\n",
    "        vertical_flip=True,\n",
    "        fill_mode='nearest')\n",
    "\n",
    "valid_datagen = ImageDataGenerator(rescale = 1./255,\n",
    "                                  validation_split = 0.2)\n",
    "\n",
    "test_datagen  = ImageDataGenerator(rescale = 1./255\n",
    "                                  )"
   ]
  },
  {
   "cell_type": "code",
   "execution_count": 5,
   "metadata": {},
   "outputs": [
    {
     "name": "stdout",
     "output_type": "stream",
     "text": [
      "Found 4098 images belonging to 4 classes.\n"
     ]
    }
   ],
   "source": [
    "train_dataset  = train_datagen.flow_from_directory(directory = '../input/alzheimers-dataset-4-class-of-images/Alzheimer_s Dataset/train',\n",
    "                                                   target_size = (224,224),\n",
    "                                                   class_mode = 'categorical',\n",
    "                                                   subset = 'training',\n",
    "                                                   batch_size = 32)"
   ]
  },
  {
   "cell_type": "code",
   "execution_count": 6,
   "metadata": {},
   "outputs": [
    {
     "name": "stdout",
     "output_type": "stream",
     "text": [
      "Found 1023 images belonging to 4 classes.\n"
     ]
    }
   ],
   "source": [
    "valid_dataset = valid_datagen.flow_from_directory(directory = '../input/alzheimers-dataset-4-class-of-images/Alzheimer_s Dataset/train',\n",
    "                                                  target_size = (224,224),\n",
    "                                                  class_mode = 'categorical',\n",
    "                                                  subset = 'validation',\n",
    "                                                  batch_size = 32)"
   ]
  },
  {
   "cell_type": "code",
   "execution_count": 7,
   "metadata": {},
   "outputs": [
    {
     "name": "stdout",
     "output_type": "stream",
     "text": [
      "Found 1279 images belonging to 4 classes.\n"
     ]
    }
   ],
   "source": [
    "test_dataset = test_datagen.flow_from_directory(directory = '../input/alzheimers-dataset-4-class-of-images/Alzheimer_s Dataset/test',\n",
    "                                                  target_size = (224,224),\n",
    "                                                  class_mode = 'categorical',\n",
    "                                                  batch_size = 32)"
   ]
  },
  {
   "cell_type": "code",
   "execution_count": 8,
   "metadata": {},
   "outputs": [
    {
     "name": "stdout",
     "output_type": "stream",
     "text": [
      "Downloading data from https://storage.googleapis.com/tensorflow/keras-applications/resnet/resnet50_weights_tf_dim_ordering_tf_kernels_notop.h5\n",
      "94773248/94765736 [==============================] - 1s 0us/step\n"
     ]
    }
   ],
   "source": [
    "base_model = ResNet50(input_shape=(224,224,3), \n",
    "                   include_top=False,\n",
    "                   weights=\"imagenet\")"
   ]
  },
  {
   "cell_type": "code",
   "execution_count": 9,
   "metadata": {},
   "outputs": [],
   "source": [
    "for layer in base_model.layers:\n",
    "    layer.trainable=False"
   ]
  },
  {
   "cell_type": "code",
   "execution_count": 10,
   "metadata": {},
   "outputs": [],
   "source": [
    "model=Sequential()\n",
    "model.add(base_model)\n",
    "model.add(Dropout(0.5))\n",
    "model.add(Flatten())\n",
    "model.add(BatchNormalization())\n",
    "model.add(Dense(64,kernel_initializer='he_uniform'))\n",
    "model.add(BatchNormalization())\n",
    "model.add(Activation('relu'))\n",
    "model.add(Dropout(0.5))\n",
    "model.add(Dense(64,kernel_initializer='he_uniform'))\n",
    "model.add(BatchNormalization())\n",
    "model.add(Activation('relu'))\n",
    "model.add(Dropout(0.5))\n",
    "model.add(Dense(64,kernel_initializer='he_uniform'))\n",
    "model.add(BatchNormalization())\n",
    "model.add(Activation('relu'))\n",
    "model.add(Dropout(0.5))\n",
    "model.add(Dense(32,kernel_initializer='he_uniform'))\n",
    "model.add(BatchNormalization())\n",
    "model.add(Activation('relu'))\n",
    "model.add(Dropout(0.5))\n",
    "model.add(Dense(32,kernel_initializer='he_uniform'))\n",
    "model.add(BatchNormalization())\n",
    "model.add(Activation('relu'))\n",
    "model.add(Dense(4,activation='softmax'))"
   ]
  },
  {
   "cell_type": "code",
   "execution_count": 11,
   "metadata": {},
   "outputs": [
    {
     "name": "stdout",
     "output_type": "stream",
     "text": [
      "Model: \"sequential\"\n",
      "_________________________________________________________________\n",
      "Layer (type)                 Output Shape              Param #   \n",
      "=================================================================\n",
      "resnet50 (Functional)        (None, 7, 7, 2048)        23587712  \n",
      "_________________________________________________________________\n",
      "dropout (Dropout)            (None, 7, 7, 2048)        0         \n",
      "_________________________________________________________________\n",
      "flatten (Flatten)            (None, 100352)            0         \n",
      "_________________________________________________________________\n",
      "batch_normalization (BatchNo (None, 100352)            401408    \n",
      "_________________________________________________________________\n",
      "dense (Dense)                (None, 64)                6422592   \n",
      "_________________________________________________________________\n",
      "batch_normalization_1 (Batch (None, 64)                256       \n",
      "_________________________________________________________________\n",
      "activation (Activation)      (None, 64)                0         \n",
      "_________________________________________________________________\n",
      "dropout_1 (Dropout)          (None, 64)                0         \n",
      "_________________________________________________________________\n",
      "dense_1 (Dense)              (None, 64)                4160      \n",
      "_________________________________________________________________\n",
      "batch_normalization_2 (Batch (None, 64)                256       \n",
      "_________________________________________________________________\n",
      "activation_1 (Activation)    (None, 64)                0         \n",
      "_________________________________________________________________\n",
      "dropout_2 (Dropout)          (None, 64)                0         \n",
      "_________________________________________________________________\n",
      "dense_2 (Dense)              (None, 64)                4160      \n",
      "_________________________________________________________________\n",
      "batch_normalization_3 (Batch (None, 64)                256       \n",
      "_________________________________________________________________\n",
      "activation_2 (Activation)    (None, 64)                0         \n",
      "_________________________________________________________________\n",
      "dropout_3 (Dropout)          (None, 64)                0         \n",
      "_________________________________________________________________\n",
      "dense_3 (Dense)              (None, 32)                2080      \n",
      "_________________________________________________________________\n",
      "batch_normalization_4 (Batch (None, 32)                128       \n",
      "_________________________________________________________________\n",
      "activation_3 (Activation)    (None, 32)                0         \n",
      "_________________________________________________________________\n",
      "dropout_4 (Dropout)          (None, 32)                0         \n",
      "_________________________________________________________________\n",
      "dense_4 (Dense)              (None, 32)                1056      \n",
      "_________________________________________________________________\n",
      "batch_normalization_5 (Batch (None, 32)                128       \n",
      "_________________________________________________________________\n",
      "activation_4 (Activation)    (None, 32)                0         \n",
      "_________________________________________________________________\n",
      "dense_5 (Dense)              (None, 4)                 132       \n",
      "=================================================================\n",
      "Total params: 30,424,324\n",
      "Trainable params: 6,635,396\n",
      "Non-trainable params: 23,788,928\n",
      "_________________________________________________________________\n"
     ]
    }
   ],
   "source": [
    "model.summary()"
   ]
  },
  {
   "cell_type": "code",
   "execution_count": 12,
   "metadata": {},
   "outputs": [],
   "source": [
    "def f1_score(y_true, y_pred):\n",
    "    true_positives = K.sum(K.round(K.clip(y_true * y_pred, 0, 1)))\n",
    "    possible_positives = K.sum(K.round(K.clip(y_true, 0, 1)))\n",
    "    predicted_positives = K.sum(K.round(K.clip(y_pred, 0, 1)))\n",
    "    precision = true_positives / (predicted_positives + K.epsilon())\n",
    "    recall = true_positives / (possible_positives + K.epsilon())\n",
    "    f1_val = 2*(precision*recall)/(precision+recall+K.epsilon())\n",
    "    return f1_val"
   ]
  },
  {
   "cell_type": "code",
   "execution_count": 13,
   "metadata": {},
   "outputs": [],
   "source": [
    "METRICS = [\n",
    "      tf.keras.metrics.BinaryAccuracy(name='accuracy'),\n",
    "      tf.keras.metrics.Precision(name='precision'),\n",
    "      tf.keras.metrics.Recall(name='recall'),  \n",
    "      tf.keras.metrics.AUC(name='auc'),\n",
    "        f1_score,\n",
    "]"
   ]
  },
  {
   "cell_type": "code",
   "execution_count": 14,
   "metadata": {},
   "outputs": [],
   "source": [
    "def exponential_decay(lr0, s):\n",
    "    def exponential_decay_fn(epoch):\n",
    "        return lr0 * 0.1 **(epoch / s)\n",
    "    return exponential_decay_fn\n",
    "\n",
    "exponential_decay_fn = exponential_decay(0.01, 5)\n",
    "\n",
    "lr_scheduler = tf.keras.callbacks.LearningRateScheduler(exponential_decay_fn)"
   ]
  },
  {
   "cell_type": "code",
   "execution_count": 15,
   "metadata": {},
   "outputs": [],
   "source": [
    "model.compile(optimizer='rmsprop', loss='categorical_crossentropy',metrics=METRICS)"
   ]
  },
  {
   "cell_type": "code",
   "execution_count": 16,
   "metadata": {},
   "outputs": [
    {
     "name": "stdout",
     "output_type": "stream",
     "text": [
      "Epoch 1/20\n",
      "129/129 [==============================] - 68s 525ms/step - loss: 1.1084 - accuracy: 0.7440 - precision: 0.4772 - recall: 0.2501 - auc: 0.7622 - f1_score: 0.3167 - val_loss: 1.0591 - val_accuracy: 0.7414 - val_precision: 0.4487 - val_recall: 0.1496 - val_auc: 0.7704 - val_f1_score: 0.2218\n",
      "Epoch 2/20\n",
      "129/129 [==============================] - 56s 433ms/step - loss: 1.0520 - accuracy: 0.7557 - precision: 0.5252 - recall: 0.2394 - auc: 0.7814 - f1_score: 0.3130 - val_loss: 1.0406 - val_accuracy: 0.7644 - val_precision: 0.6595 - val_recall: 0.1193 - val_auc: 0.7844 - val_f1_score: 0.1988\n",
      "Epoch 3/20\n",
      "129/129 [==============================] - 55s 429ms/step - loss: 1.0321 - accuracy: 0.7604 - precision: 0.5493 - recall: 0.2323 - auc: 0.7868 - f1_score: 0.3211 - val_loss: 1.0300 - val_accuracy: 0.7749 - val_precision: 0.6386 - val_recall: 0.2297 - val_auc: 0.7801 - val_f1_score: 0.3341\n",
      "Epoch 4/20\n",
      "129/129 [==============================] - 55s 427ms/step - loss: 1.0281 - accuracy: 0.7646 - precision: 0.5693 - recall: 0.2406 - auc: 0.7914 - f1_score: 0.3311 - val_loss: 1.0064 - val_accuracy: 0.7827 - val_precision: 0.6754 - val_recall: 0.2522 - val_auc: 0.8075 - val_f1_score: 0.3624\n",
      "Epoch 5/20\n",
      "129/129 [==============================] - 54s 421ms/step - loss: 1.0195 - accuracy: 0.7681 - precision: 0.5883 - recall: 0.2406 - auc: 0.7945 - f1_score: 0.3361 - val_loss: 0.9897 - val_accuracy: 0.7884 - val_precision: 0.6901 - val_recall: 0.2786 - val_auc: 0.8123 - val_f1_score: 0.3948\n",
      "Epoch 6/20\n",
      "129/129 [==============================] - 55s 427ms/step - loss: 1.0240 - accuracy: 0.7693 - precision: 0.5929 - recall: 0.2469 - auc: 0.7932 - f1_score: 0.3442 - val_loss: 0.9936 - val_accuracy: 0.7903 - val_precision: 0.6950 - val_recall: 0.2874 - val_auc: 0.8098 - val_f1_score: 0.4045\n",
      "Epoch 7/20\n",
      "129/129 [==============================] - 54s 417ms/step - loss: 1.0160 - accuracy: 0.7700 - precision: 0.6057 - recall: 0.2294 - auc: 0.7973 - f1_score: 0.3284 - val_loss: 0.9896 - val_accuracy: 0.7898 - val_precision: 0.6791 - val_recall: 0.3021 - val_auc: 0.8111 - val_f1_score: 0.4169\n",
      "Epoch 8/20\n",
      "129/129 [==============================] - 58s 449ms/step - loss: 1.0189 - accuracy: 0.7700 - precision: 0.5944 - recall: 0.2521 - auc: 0.7977 - f1_score: 0.3501 - val_loss: 0.9871 - val_accuracy: 0.7889 - val_precision: 0.6653 - val_recall: 0.3128 - val_auc: 0.8115 - val_f1_score: 0.4226\n",
      "Epoch 9/20\n",
      "129/129 [==============================] - 57s 438ms/step - loss: 1.0205 - accuracy: 0.7712 - precision: 0.5963 - recall: 0.2628 - auc: 0.7956 - f1_score: 0.3652 - val_loss: 0.9863 - val_accuracy: 0.7901 - val_precision: 0.6673 - val_recall: 0.3196 - val_auc: 0.8120 - val_f1_score: 0.4292\n",
      "Epoch 10/20\n",
      "129/129 [==============================] - 56s 432ms/step - loss: 1.0129 - accuracy: 0.7707 - precision: 0.5949 - recall: 0.2594 - auc: 0.7983 - f1_score: 0.3628 - val_loss: 0.9843 - val_accuracy: 0.7901 - val_precision: 0.6653 - val_recall: 0.3226 - val_auc: 0.8126 - val_f1_score: 0.4308\n",
      "Epoch 11/20\n",
      "129/129 [==============================] - 54s 418ms/step - loss: 1.0130 - accuracy: 0.7725 - precision: 0.6018 - recall: 0.2662 - auc: 0.7989 - f1_score: 0.3699 - val_loss: 0.9846 - val_accuracy: 0.7896 - val_precision: 0.6667 - val_recall: 0.3167 - val_auc: 0.8119 - val_f1_score: 0.4274\n",
      "Epoch 12/20\n",
      "129/129 [==============================] - 55s 427ms/step - loss: 1.0169 - accuracy: 0.7698 - precision: 0.5927 - recall: 0.2528 - auc: 0.7977 - f1_score: 0.3556 - val_loss: 0.9850 - val_accuracy: 0.7913 - val_precision: 0.6786 - val_recall: 0.3138 - val_auc: 0.8116 - val_f1_score: 0.4274\n",
      "Epoch 13/20\n",
      "129/129 [==============================] - 56s 432ms/step - loss: 1.0127 - accuracy: 0.7710 - precision: 0.5982 - recall: 0.2557 - auc: 0.7979 - f1_score: 0.3546 - val_loss: 0.9851 - val_accuracy: 0.7903 - val_precision: 0.6759 - val_recall: 0.3099 - val_auc: 0.8116 - val_f1_score: 0.4228\n",
      "Epoch 14/20\n",
      "129/129 [==============================] - 55s 424ms/step - loss: 1.0165 - accuracy: 0.7689 - precision: 0.5886 - recall: 0.2513 - auc: 0.7964 - f1_score: 0.3533 - val_loss: 0.9858 - val_accuracy: 0.7903 - val_precision: 0.6759 - val_recall: 0.3099 - val_auc: 0.8114 - val_f1_score: 0.4235\n",
      "Epoch 15/20\n",
      "129/129 [==============================] - 55s 427ms/step - loss: 1.0110 - accuracy: 0.7715 - precision: 0.5977 - recall: 0.2628 - auc: 0.7984 - f1_score: 0.3611 - val_loss: 0.9855 - val_accuracy: 0.7906 - val_precision: 0.6774 - val_recall: 0.3099 - val_auc: 0.8113 - val_f1_score: 0.4228\n",
      "Epoch 16/20\n",
      "129/129 [==============================] - 56s 435ms/step - loss: 1.0161 - accuracy: 0.7688 - precision: 0.5859 - recall: 0.2562 - auc: 0.7987 - f1_score: 0.3579 - val_loss: 0.9844 - val_accuracy: 0.7908 - val_precision: 0.6736 - val_recall: 0.3167 - val_auc: 0.8117 - val_f1_score: 0.4243\n",
      "Epoch 17/20\n",
      "129/129 [==============================] - 56s 435ms/step - loss: 1.0144 - accuracy: 0.7701 - precision: 0.5929 - recall: 0.2562 - auc: 0.7988 - f1_score: 0.3528 - val_loss: 0.9845 - val_accuracy: 0.7908 - val_precision: 0.6736 - val_recall: 0.3167 - val_auc: 0.8115 - val_f1_score: 0.4268\n",
      "Epoch 18/20\n",
      "129/129 [==============================] - 56s 433ms/step - loss: 1.0143 - accuracy: 0.7712 - precision: 0.5976 - recall: 0.2592 - auc: 0.7977 - f1_score: 0.3575 - val_loss: 0.9845 - val_accuracy: 0.7906 - val_precision: 0.6758 - val_recall: 0.3118 - val_auc: 0.8115 - val_f1_score: 0.4235\n",
      "Epoch 19/20\n",
      "129/129 [==============================] - 56s 436ms/step - loss: 1.0150 - accuracy: 0.7740 - precision: 0.6092 - recall: 0.2674 - auc: 0.7972 - f1_score: 0.3725 - val_loss: 0.9851 - val_accuracy: 0.7906 - val_precision: 0.6766 - val_recall: 0.3109 - val_auc: 0.8114 - val_f1_score: 0.4237\n",
      "Epoch 20/20\n",
      "129/129 [==============================] - 56s 432ms/step - loss: 1.0191 - accuracy: 0.7725 - precision: 0.6032 - recall: 0.2631 - auc: 0.7976 - f1_score: 0.3671 - val_loss: 0.9863 - val_accuracy: 0.7908 - val_precision: 0.6788 - val_recall: 0.3099 - val_auc: 0.8114 - val_f1_score: 0.4205\n"
     ]
    }
   ],
   "source": [
    "history=model.fit(train_dataset,\n",
    "                        validation_data=valid_dataset,\n",
    "                        epochs = 20,\n",
    "                        verbose = 1,\n",
    "                         callbacks=lr_scheduler)"
   ]
  },
  {
   "cell_type": "code",
   "execution_count": 17,
   "metadata": {},
   "outputs": [
    {
     "data": {
      "image/png": "[encoded data removed]",
      "text/plain": [
       "<Figure size 1440x360 with 5 Axes>"
      ]
     },
     "metadata": {
      "needs_background": "light"
     },
     "output_type": "display_data"
    }
   ],
   "source": [
    "def Train_Val_Plot(acc,val_acc,loss,val_loss,auc,val_auc,precision,val_precision,f1,val_f1):\n",
    "    \n",
    "    fig, (ax1, ax2,ax3,ax4,ax5) = plt.subplots(1,5, figsize= (20,5))\n",
    "    fig.suptitle(\" MODEL'S METRICS VISUALIZATION \")\n",
    "\n",
    "    ax1.plot(range(1, len(acc) + 1), acc)\n",
    "    ax1.plot(range(1, len(val_acc) + 1), val_acc)\n",
    "    ax1.set_title('History of Accuracy')\n",
    "    ax1.set_xlabel('Epochs')\n",
    "    ax1.set_ylabel('Accuracy')\n",
    "    ax1.legend(['training', 'validation'])\n",
    "\n",
    "\n",
    "    ax2.plot(range(1, len(loss) + 1), loss)\n",
    "    ax2.plot(range(1, len(val_loss) + 1), val_loss)\n",
    "    ax2.set_title('History of Loss')\n",
    "    ax2.set_xlabel('Epochs')\n",
    "    ax2.set_ylabel('Loss')\n",
    "    ax2.legend(['training', 'validation'])\n",
    "    \n",
    "    ax3.plot(range(1, len(auc) + 1), auc)\n",
    "    ax3.plot(range(1, len(val_auc) + 1), val_auc)\n",
    "    ax3.set_title('History of AUC')\n",
    "    ax3.set_xlabel('Epochs')\n",
    "    ax3.set_ylabel('AUC')\n",
    "    ax3.legend(['training', 'validation'])\n",
    "    \n",
    "    ax4.plot(range(1, len(precision) + 1), precision)\n",
    "    ax4.plot(range(1, len(val_precision) + 1), val_precision)\n",
    "    ax4.set_title('History of Precision')\n",
    "    ax4.set_xlabel('Epochs')\n",
    "    ax4.set_ylabel('Precision')\n",
    "    ax4.legend(['training', 'validation'])\n",
    "    \n",
    "    ax5.plot(range(1, len(f1) + 1), f1)\n",
    "    ax5.plot(range(1, len(val_f1) + 1), val_f1)\n",
    "    ax5.set_title('History of F1-score')\n",
    "    ax5.set_xlabel('Epochs')\n",
    "    ax5.set_ylabel('F1 score')\n",
    "    ax5.legend(['training', 'validation'])\n",
    "\n",
    "\n",
    "    plt.show()\n",
    "    \n",
    "\n",
    "Train_Val_Plot(history.history['accuracy'],history.history['val_accuracy'],\n",
    "               history.history['loss'],history.history['val_loss'],\n",
    "               history.history['auc'],history.history['val_auc'],\n",
    "               history.history['precision'],history.history['val_precision'],\n",
    "               history.history['f1_score'],history.history['val_f1_score']\n",
    "              )"
   ]
  },
  {
   "cell_type": "code",
   "execution_count": 18,
   "metadata": {},
   "outputs": [],
   "source": [
    "scores = model.evaluate_generator(test_dataset)"
   ]
  },
  {
   "cell_type": "code",
   "execution_count": 19,
   "metadata": {},
   "outputs": [
    {
     "name": "stdout",
     "output_type": "stream",
     "text": [
      "Accuracy =  0.7570367455482483\n",
      "Precision =  0.5833333134651184\n",
      "Recall =  0.09851446747779846\n",
      "AUC =  0.8005722761154175\n",
      "F1_score =  0.16603372991085052\n"
     ]
    }
   ],
   "source": [
    "print(\"Accuracy = \", scores[1])\n",
    "print(\"Precision = \", scores[2])\n",
    "print(\"Recall = \", scores[3])\n",
    "print(\"AUC = \", scores[4])\n",
    "print(\"F1_score = \", scores[5])"
   ]
  }
 ],
 "metadata": {
  "kernelspec": {
   "display_name": "Python 3 (ipykernel)",
   "language": "python",
   "name": "python3"
  },
  "language_info": {
   "codemirror_mode": {
    "name": "ipython",
    "version": 3
   },
   "file_extension": ".py",
   "mimetype": "text/x-python",
   "name": "python",
   "nbconvert_exporter": "python",
   "pygments_lexer": "ipython3",
   "version": "3.9.9"
  }
 },
 "nbformat": 4,
 "nbformat_minor": 4
}
